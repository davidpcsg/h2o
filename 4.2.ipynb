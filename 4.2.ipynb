{
 "cells": [
  {
   "cell_type": "markdown",
   "id": "2be6ddf4-d504-487c-9e58-d37f59ebb5c3",
   "metadata": {},
   "source": [
    "# Imports"
   ]
  },
  {
   "cell_type": "code",
   "execution_count": 1,
   "id": "12bf9bce-2b04-466e-8065-7d7abcbd0a0b",
   "metadata": {},
   "outputs": [],
   "source": [
    "from statsmodels.stats.weightstats import ztest as ztest\n",
    "import scipy.stats as stats\n",
    "import numpy as np"
   ]
  },
  {
   "cell_type": "markdown",
   "id": "b11f1403-5841-4413-ae02-627054040e97",
   "metadata": {},
   "source": [
    "# Conjuntos de dados"
   ]
  },
  {
   "cell_type": "code",
   "execution_count": 2,
   "id": "ff50c23a-71ce-4792-b60c-4180bea2c1d6",
   "metadata": {},
   "outputs": [],
   "source": [
    "data1 = [88, 92, 94, 94, 96, 97, 97, 97, 99, 99, 105, 109, 109, 109, 110, 112, 112, 113, 114, 115]\n",
    "data2 = [85, 88, 88, 89, 93, 95, 95, 97, 98, 99, 101, 103, 104, 109, 110, 113, 113, 113, 114, 123]\n",
    "data3 = [92, 8]\n",
    "data4 = [97, 3]"
   ]
  },
  {
   "cell_type": "markdown",
   "id": "a44b398a-a0f1-4f55-874b-d347c8f406db",
   "metadata": {
    "tags": []
   },
   "source": [
    "## Low-code Z test"
   ]
  },
  {
   "cell_type": "code",
   "execution_count": 3,
   "id": "27beabb9-b2c5-4dc0-b290-168fe625d4d3",
   "metadata": {},
   "outputs": [
    {
     "name": "stdout",
     "output_type": "stream",
     "text": [
      "Z = 1.5976240527147705\n",
      "p-value = 0.1101266701438426\n"
     ]
    }
   ],
   "source": [
    "result = ztest(data1, value=100)\n",
    "print('Z = ' + str(result[0]))\n",
    "print('p-value = ' + str(result[1]))\n"
   ]
  },
  {
   "cell_type": "markdown",
   "id": "e8ee21e7-f02d-4ac0-bf9c-e7d47333ef39",
   "metadata": {},
   "source": [
    "## Low-code T test"
   ]
  },
  {
   "cell_type": "code",
   "execution_count": 4,
   "id": "4b586471-e11a-47e2-9e86-67b7b932cfff",
   "metadata": {},
   "outputs": [
    {
     "name": "stdout",
     "output_type": "stream",
     "text": [
      "t = 1.5976240527147705\n",
      "p-value = 0.12662462536124378\n"
     ]
    }
   ],
   "source": [
    "result = stats.ttest_1samp(a=data1, popmean=100)\n",
    "print('t = ' + str(result[0]))\n",
    "print('p-value = ' + str(result[1]))\n"
   ]
  },
  {
   "cell_type": "markdown",
   "id": "e30c9823-8bd6-4ab7-a390-955609f0ce37",
   "metadata": {},
   "source": [
    "## Low-code F test"
   ]
  },
  {
   "cell_type": "code",
   "execution_count": 5,
   "id": "c452a200-65c5-454d-97c9-b8e63dbe9f4b",
   "metadata": {},
   "outputs": [
    {
     "name": "stdout",
     "output_type": "stream",
     "text": [
      "f = 0.25892312710049775\n",
      "p-value = 0.6138028831706455\n"
     ]
    }
   ],
   "source": [
    "result = stats.f_oneway(data1, data2)\n",
    "print('f = ' + str(result[0]))\n",
    "print('p-value = ' + str(result[1]))"
   ]
  },
  {
   "cell_type": "markdown",
   "id": "5f8e8a74-01b0-4e70-9e0d-f0fae3e6be11",
   "metadata": {},
   "source": [
    "## Low-code Chi-Square test"
   ]
  },
  {
   "cell_type": "code",
   "execution_count": 6,
   "id": "34584c6e-3f48-4987-b94d-13a1a6d1e56c",
   "metadata": {},
   "outputs": [
    {
     "name": "stdout",
     "output_type": "stream",
     "text": [
      "chi-square = 8.591065292096221\n",
      "p-value = 0.0033781632835517173\n"
     ]
    }
   ],
   "source": [
    "result = stats.chisquare(data3, f_exp=data4)\n",
    "print('chi-square = ' + str(result[0]))\n",
    "print('p-value = ' + str(result[1]))"
   ]
  },
  {
   "cell_type": "markdown",
   "id": "22da6a68-a280-4c87-8742-db55877e9fa5",
   "metadata": {},
   "source": [
    "## Intervalo de Confiança"
   ]
  },
  {
   "cell_type": "code",
   "execution_count": 7,
   "id": "e34038d3-d2ad-4c5b-87ea-4f568cb0c840",
   "metadata": {},
   "outputs": [
    {
     "data": {
      "text/plain": [
       "(99.05423932332664, 107.04576067667335)"
      ]
     },
     "execution_count": 7,
     "metadata": {},
     "output_type": "execute_result"
    }
   ],
   "source": [
    "stats.t.interval(alpha=0.95, df=len(data1)-1, loc=np.mean(data1), scale=stats.sem(data1)) "
   ]
  },
  {
   "cell_type": "markdown",
   "id": "8c9412bf-f507-470a-922d-7d311f9b1a74",
   "metadata": {},
   "source": [
    "# Referências"
   ]
  },
  {
   "cell_type": "markdown",
   "id": "fa5c7533-c60d-4664-9909-be778112938c",
   "metadata": {},
   "source": [
    "https://www.statsmodels.org/dev/generated/statsmodels.stats.weightstats.ztest.html\n",
    "\n",
    "https://docs.scipy.org/doc/scipy/reference/generated/scipy.stats.ttest_1samp.html\n",
    "\n",
    "https://docs.scipy.org/doc/scipy/reference/generated/scipy.stats.f_oneway.html\n",
    "\n",
    "https://docs.scipy.org/doc/scipy/reference/generated/scipy.stats.chisquare.html#scipy.stats.chisquare\n",
    "\n",
    "https://docs.scipy.org/doc/scipy/reference/generated/scipy.stats.t.html#scipy.stats.t"
   ]
  },
  {
   "cell_type": "code",
   "execution_count": null,
   "id": "b777617c-834e-4cba-b040-48a88cac33ac",
   "metadata": {},
   "outputs": [],
   "source": []
  }
 ],
 "metadata": {
  "kernelspec": {
   "display_name": "Python3 (H2O AI Cloud)",
   "language": "python",
   "name": "haic"
  },
  "language_info": {
   "codemirror_mode": {
    "name": "ipython",
    "version": 3
   },
   "file_extension": ".py",
   "mimetype": "text/x-python",
   "name": "python",
   "nbconvert_exporter": "python",
   "pygments_lexer": "ipython3",
   "version": "3.9.12"
  }
 },
 "nbformat": 4,
 "nbformat_minor": 5
}
